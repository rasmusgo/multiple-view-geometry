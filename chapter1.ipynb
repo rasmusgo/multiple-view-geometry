{
 "cells": [
  {
   "cell_type": "code",
   "execution_count": null,
   "id": "36632bf2",
   "metadata": {},
   "outputs": [],
   "source": [
    "import numpy as np\n",
    "import matplotlib.pyplot as plt\n",
    "\n",
    "def plot_line(line, rectangle, n=128):\n",
    "    ((ax, ay), (bx, by)) = rectangle\n",
    "    x, y = np.meshgrid(np.linspace(ax, bx, n), np.linspace(ay, by, n))\n",
    "    a, b, c = line\n",
    "    plt.contour(x, y, a*x + b*y + c, [0])\n"
   ]
  },
  {
   "cell_type": "code",
   "execution_count": null,
   "id": "b36e71d4",
   "metadata": {},
   "outputs": [],
   "source": [
    "plot_line((1, 0, 0), ((-50, -50), (50, 50)))  # x = 50\n",
    "plot_line((1, 1, 0), ((-50, -50), (50, 50)))  # x = 50"
   ]
  }
 ],
 "metadata": {
  "kernelspec": {
   "display_name": "Python 3 (ipykernel)",
   "language": "python",
   "name": "python3"
  },
  "language_info": {
   "codemirror_mode": {
    "name": "ipython",
    "version": 3
   },
   "file_extension": ".py",
   "mimetype": "text/x-python",
   "name": "python",
   "nbconvert_exporter": "python",
   "pygments_lexer": "ipython3",
   "version": "3.10.7"
  }
 },
 "nbformat": 4,
 "nbformat_minor": 5
}
