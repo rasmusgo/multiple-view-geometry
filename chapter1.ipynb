{
 "cells": [
  {
   "cell_type": "code",
   "execution_count": null,
   "id": "d5160376",
   "metadata": {},
   "outputs": [],
   "source": [
    "import numpy as np\n",
    "import matplotlib.pyplot as plt\n",
    "\n",
    "def plot_line(line, bounds, n=128):\n",
    "    ((ax, ay), (bx, by)) = bounds\n",
    "    x, y = np.meshgrid(np.linspace(ax, bx, n), np.linspace(ay, by, n))\n",
    "    a, b, c = line\n",
    "    plt.contour(x, y, a*x + b*y + c, [0])\n",
    "    plt.axis('equal')\n",
    "   \n",
    "\n",
    "plot_line((1, 0, 0), ((-50, -50), (50, 50)))  # x = 0\n",
    "plot_line((1, 1, 0), ((-50, -50), (50, 50)))  # x + y = 0\n"
   ]
  },
  {
   "cell_type": "code",
   "execution_count": null,
   "id": "4e49ad4e",
   "metadata": {},
   "outputs": [],
   "source": [
    "def plot_line(line, bounds, n=128):\n",
    "    ((ax, ay), (bx, by)) = bounds\n",
    "    x, y = np.meshgrid(np.linspace(ax, bx, n), np.linspace(ay, by, n))\n",
    "    points = np.dstack((x, y, np.ones(x.shape)))\n",
    "    plt.contour(x, y, np.dot(points, line), [0])\n",
    "    plt.axis('equal')\n",
    "    \n",
    "    \n",
    "plot_line((1, 0, 0), ((-50, -50), (50, 50)))  # x = 0\n",
    "plot_line((1, 1, 0), ((-50, -50), (50, 50)))  # x + y = 0"
   ]
  }
 ],
 "metadata": {
  "kernelspec": {
   "display_name": "Python 3 (ipykernel)",
   "language": "python",
   "name": "python3"
  },
  "language_info": {
   "codemirror_mode": {
    "name": "ipython",
    "version": 3
   },
   "file_extension": ".py",
   "mimetype": "text/x-python",
   "name": "python",
   "nbconvert_exporter": "python",
   "pygments_lexer": "ipython3",
   "version": "3.10.7"
  }
 },
 "nbformat": 4,
 "nbformat_minor": 5
}
